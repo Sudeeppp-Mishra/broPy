{
 "cells": [
  {
   "cell_type": "markdown",
   "id": "b792e878",
   "metadata": {},
   "source": [
    "# Membership operators\n",
    "\n",
    "used to test whether a value or variable is found in a sequence (string, list, tuple, set, or dictionary)\n",
    "\n",
    "- `in`\n",
    "- `not in`"
   ]
  },
  {
   "cell_type": "code",
   "execution_count": 2,
   "id": "add3acc0",
   "metadata": {},
   "outputs": [
    {
     "name": "stdout",
     "output_type": "stream",
     "text": [
      "A found in word!\n"
     ]
    }
   ],
   "source": [
    "word = \"APPLE\"\n",
    "\n",
    "letter = input(\"Guess a letter in the secret word: \")\n",
    "\n",
    "if letter in word:\n",
    "    print(f\"{letter} found in word!\")\n",
    "else:\n",
    "    print(f\"{letter} was not found!\")"
   ]
  },
  {
   "cell_type": "code",
   "execution_count": 3,
   "id": "1434897f",
   "metadata": {},
   "outputs": [
    {
     "name": "stdout",
     "output_type": "stream",
     "text": [
      "t not found!\n"
     ]
    }
   ],
   "source": [
    "word = \"APPLE\"\n",
    "\n",
    "letter = input(\"Guess a letter in the secret word: \")\n",
    "\n",
    "if letter not in word:\n",
    "    print(f\"{letter} not found!\")\n",
    "else:\n",
    "    print(f\"{letter} found!\")"
   ]
  },
  {
   "cell_type": "code",
   "execution_count": 4,
   "id": "433788b9",
   "metadata": {},
   "outputs": [
    {
     "name": "stdout",
     "output_type": "stream",
     "text": [
      "Ram is a student\n"
     ]
    }
   ],
   "source": [
    "students = {'Ram', \"Shyam\", \"Hari\", \"Gita\"}\n",
    "\n",
    "student = input(\"Enter the name of student: \")\n",
    "\n",
    "if student in students:\n",
    "    print(f\"{student} is a student\")\n",
    "else:\n",
    "    print(f\"{student} was not found\")"
   ]
  },
  {
   "cell_type": "code",
   "execution_count": 7,
   "id": "96a1cd55",
   "metadata": {},
   "outputs": [
    {
     "name": "stdout",
     "output_type": "stream",
     "text": [
      "Sita has grade A!\n"
     ]
    }
   ],
   "source": [
    "grades = {\"Ram\": \"A\",\n",
    "          \"Shyam\": \"B\",\n",
    "          \"Sita\": \"A\"}\n",
    "\n",
    "student = input(\"Enter the name of a student: \")\n",
    "\n",
    "if student in grades:\n",
    "    print(f\"{student} has grade {grades[student]}!\")\n",
    "else:\n",
    "    print(f\"{student} was not found!\")"
   ]
  },
  {
   "cell_type": "code",
   "execution_count": 9,
   "id": "1970c1dd",
   "metadata": {},
   "outputs": [
    {
     "name": "stdout",
     "output_type": "stream",
     "text": [
      "Valid email\n"
     ]
    }
   ],
   "source": [
    "email = \"abc@gmail.com\"\n",
    "\n",
    "if \"@\" in email and \".\" in email:\n",
    "    print(\"Valid email\")\n",
    "else:\n",
    "    print(\"Invalid email\")"
   ]
  }
 ],
 "metadata": {
  "kernelspec": {
   "display_name": "Python 3",
   "language": "python",
   "name": "python3"
  },
  "language_info": {
   "codemirror_mode": {
    "name": "ipython",
    "version": 3
   },
   "file_extension": ".py",
   "mimetype": "text/x-python",
   "name": "python",
   "nbconvert_exporter": "python",
   "pygments_lexer": "ipython3",
   "version": "3.11.4"
  }
 },
 "nbformat": 4,
 "nbformat_minor": 5
}
