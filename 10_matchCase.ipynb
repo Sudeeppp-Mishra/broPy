{
 "cells": [
  {
   "cell_type": "markdown",
   "id": "892f4b90",
   "metadata": {},
   "source": [
    "# Match-case statement (switch)\n",
    "\n",
    "An alternative to using many 'elif' statements\n",
    "\n",
    "Execute some code if a value matches a 'case' \n",
    "\n",
    "Benefits: cleaner and syntax is more readable"
   ]
  },
  {
   "cell_type": "code",
   "execution_count": 2,
   "id": "f8b558ef",
   "metadata": {},
   "outputs": [
    {
     "name": "stdout",
     "output_type": "stream",
     "text": [
      "It is Tuesday\n"
     ]
    }
   ],
   "source": [
    "def day_of_week(day):\n",
    "    if day == 1:\n",
    "        return \"It is Sunday\"\n",
    "    elif day == 2:\n",
    "        return \"It is Monday\"\n",
    "    elif day == 3:\n",
    "        return \"It is Tuesday\"\n",
    "    elif day == 4:\n",
    "        return \"It is Wednesday\"\n",
    "    elif day == 5:\n",
    "        return \"It is Thursday\"\n",
    "    elif day == 6:\n",
    "        return \"It is Friday\"\n",
    "    elif day == 7:\n",
    "        return \"It is Saturday\"\n",
    "    else:\n",
    "        return \"Not a valid day\"\n",
    "    \n",
    "print(day_of_week(3))"
   ]
  },
  {
   "cell_type": "code",
   "execution_count": 15,
   "id": "951db02b",
   "metadata": {},
   "outputs": [
    {
     "name": "stdout",
     "output_type": "stream",
     "text": [
      "It is Tuesday\n",
      "It is Saturday\n",
      "Not a valid day\n"
     ]
    }
   ],
   "source": [
    "def day_of_week(day):\n",
    "    match day:\n",
    "        case 1:\n",
    "            return \"It is Sunday\"\n",
    "        case 2:\n",
    "            return \"It is Monday\"\n",
    "        case 3:\n",
    "            return \"It is Tuesday\"\n",
    "        case 4:\n",
    "            return \"It is Wednesday\"\n",
    "        case 5:\n",
    "            return \"It is Thursday\"\n",
    "        case 6:\n",
    "            return \"It is Friday\"\n",
    "        case 7:\n",
    "            return \"It is Saturday\"\n",
    "        case _: # _ is wild card\n",
    "            return \"Not a valid day\"\n",
    "    \n",
    "print(day_of_week(3))\n",
    "print(day_of_week(7))\n",
    "print(day_of_week(\"pizza\"))"
   ]
  },
  {
   "cell_type": "code",
   "execution_count": 11,
   "id": "ea04d1a7",
   "metadata": {},
   "outputs": [
    {
     "name": "stdout",
     "output_type": "stream",
     "text": [
      "True\n",
      "False\n",
      "Not a valid day\n"
     ]
    }
   ],
   "source": [
    "def is_weekend(day):\n",
    "    match day:\n",
    "        case \"Sunday\":\n",
    "            return True\n",
    "        case \"Monday\":\n",
    "            return False\n",
    "        case \"Tuesday\":\n",
    "            return False\n",
    "        case \"Wednesday\":\n",
    "            return False\n",
    "        case \"Thursday\":\n",
    "            return False\n",
    "        case \"Friday\":\n",
    "            return False\n",
    "        case \"Saturday\":\n",
    "            return True\n",
    "        case _: # _ is wild card\n",
    "            return \"Not a valid day\"\n",
    "   \n",
    "print(is_weekend(\"Sunday\"))        \n",
    "print(is_weekend(\"Friday\"))\n",
    "print(is_weekend(\"pizza\"))"
   ]
  },
  {
   "cell_type": "code",
   "execution_count": 12,
   "id": "752cf428",
   "metadata": {},
   "outputs": [
    {
     "name": "stdout",
     "output_type": "stream",
     "text": [
      "True\n",
      "False\n",
      "False\n"
     ]
    }
   ],
   "source": [
    "def is_weekend(day):\n",
    "    match day:\n",
    "        case \"Sunday\" | \"Saturday\":\n",
    "            return True\n",
    "        case \"Monday\" | \"Tuesday\" | \"Wednesday\" | \"Thursday\" | \"Friday\":\n",
    "            return False\n",
    "        case _: # _ is wild card\n",
    "            return False\n",
    "        \n",
    "print(is_weekend(\"Sunday\"))\n",
    "print(is_weekend(\"Friday\"))\n",
    "print(is_weekend(\"pizza\"))"
   ]
  }
 ],
 "metadata": {
  "kernelspec": {
   "display_name": "Python 3",
   "language": "python",
   "name": "python3"
  },
  "language_info": {
   "codemirror_mode": {
    "name": "ipython",
    "version": 3
   },
   "file_extension": ".py",
   "mimetype": "text/x-python",
   "name": "python",
   "nbconvert_exporter": "python",
   "pygments_lexer": "ipython3",
   "version": "3.11.4"
  }
 },
 "nbformat": 4,
 "nbformat_minor": 5
}
