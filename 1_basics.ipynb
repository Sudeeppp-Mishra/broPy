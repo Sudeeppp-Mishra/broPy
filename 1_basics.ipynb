{
 "cells": [
  {
   "cell_type": "markdown",
   "id": "792d6fea",
   "metadata": {},
   "source": [
    "## Printing anything`"
   ]
  },
  {
   "cell_type": "code",
   "execution_count": 1,
   "id": "b4d4da9a",
   "metadata": {},
   "outputs": [
    {
     "name": "stdout",
     "output_type": "stream",
     "text": [
      "Heheee\n"
     ]
    }
   ],
   "source": [
    "print(\"Heheee\")"
   ]
  },
  {
   "cell_type": "code",
   "execution_count": 2,
   "id": "2bfc8d85",
   "metadata": {},
   "outputs": [
    {
     "name": "stdout",
     "output_type": "stream",
     "text": [
      "Wowwww!!!!\n"
     ]
    }
   ],
   "source": [
    "print(\"Wowwww!!!!\")"
   ]
  },
  {
   "cell_type": "markdown",
   "id": "16cbccae",
   "metadata": {},
   "source": [
    "## Comments\n",
    "\n",
    "Python Interpreter doesn't o/p comment...\n",
    "\n",
    "We use `#` sign"
   ]
  },
  {
   "cell_type": "code",
   "execution_count": 3,
   "id": "00a59028",
   "metadata": {},
   "outputs": [
    {
     "name": "stdout",
     "output_type": "stream",
     "text": [
      "Wohooooo\n"
     ]
    }
   ],
   "source": [
    "# This is a comment used by me for myself as note or for others\n",
    "\n",
    "print(\"Wohooooo\")"
   ]
  },
  {
   "cell_type": "markdown",
   "id": "e0c80ff0",
   "metadata": {},
   "source": [
    "## Variable\n",
    "\n",
    "A container for a value (string, integer, float, boolean)\n",
    "\n",
    "A variable behaves as if it was the value it contains"
   ]
  },
  {
   "cell_type": "code",
   "execution_count": 4,
   "id": "8d6dfd28",
   "metadata": {},
   "outputs": [
    {
     "name": "stdout",
     "output_type": "stream",
     "text": [
      "Bruhhh\n"
     ]
    }
   ],
   "source": [
    "first_name = \"Bruhhh\" # u can use single quotes first_name = 'Bruhhh'\n",
    "\n",
    "print(first_name)"
   ]
  },
  {
   "cell_type": "markdown",
   "id": "883279f7",
   "metadata": {},
   "source": [
    "## Printing with f-string"
   ]
  },
  {
   "cell_type": "code",
   "execution_count": 5,
   "id": "563fe569",
   "metadata": {},
   "outputs": [
    {
     "name": "stdout",
     "output_type": "stream",
     "text": [
      "Hello, Bruhhh\n"
     ]
    }
   ],
   "source": [
    "print(f\"Hello, {first_name}\")"
   ]
  },
  {
   "cell_type": "code",
   "execution_count": 6,
   "id": "744abf64",
   "metadata": {},
   "outputs": [
    {
     "name": "stdout",
     "output_type": "stream",
     "text": [
      "You like pizza\n"
     ]
    }
   ],
   "source": [
    "food = \"pizza\"\n",
    "\n",
    "print(f\"You like {food}\")"
   ]
  },
  {
   "cell_type": "code",
   "execution_count": 11,
   "id": "4faecbdc",
   "metadata": {},
   "outputs": [
    {
     "name": "stdout",
     "output_type": "stream",
     "text": [
      "You are 26 years old\n",
      "Price is 2.881\n",
      "Arye you a student?: True\n",
      "You are a student\n"
     ]
    }
   ],
   "source": [
    "# Strings - series of characters\n",
    "\n",
    "first_name = \"bruhh\"\n",
    "email = \"hello123@gmail.com\"\n",
    "\n",
    "# Integers\n",
    "\n",
    "age = 26\n",
    "\n",
    "print(f\"You are {age} years old\")\n",
    "\n",
    "# Float\n",
    "\n",
    "price = 2.881\n",
    "\n",
    "print(f\"Price is {price}\")\n",
    "\n",
    "# Boolean\n",
    "\n",
    "is_student = True # or False\n",
    "\n",
    "print(f\"Arye you a student?: {is_student}\")\n",
    "\n",
    "if is_student:\n",
    "    print(\"You are a student\")\n",
    "else:\n",
    "    print(\"You are not a student\")"
   ]
  },
  {
   "cell_type": "markdown",
   "id": "4a5f1fdc",
   "metadata": {},
   "source": [
    "## Typecasting\n",
    "\n",
    "the process of converting from one data type to another `str(), int(), float(), bool()`"
   ]
  },
  {
   "cell_type": "code",
   "execution_count": 23,
   "id": "5957219b",
   "metadata": {},
   "outputs": [
    {
     "name": "stdout",
     "output_type": "stream",
     "text": [
      "<class 'str'> <class 'int'> <class 'float'> <class 'bool'>\n",
      "3.6\n",
      "3\n",
      "3.6\n",
      "3\n",
      "24.0\n",
      "24 <class 'str'>\n",
      "241\n",
      "True\n",
      "False\n"
     ]
    }
   ],
   "source": [
    "name = \"Broo\"\n",
    "age = 24\n",
    "gpa = 3.6\n",
    "is_student=True\n",
    "\n",
    "print(type(name), type(age), type(gpa), type(is_student))\n",
    "\n",
    "print(gpa)\n",
    "\n",
    "print(int(gpa))\n",
    "print(gpa) # int(gpa) didn't direclty change the original variable\n",
    "\n",
    "gpa = int(gpa)\n",
    "print(gpa)\n",
    "\n",
    "age = float(age)\n",
    "print(age)\n",
    "age = int(age)\n",
    "\n",
    "age = str(age)\n",
    "print(age, type(age))\n",
    "\n",
    "age += \"1\" # string concatenation\n",
    "print(age)\n",
    "\n",
    "name = bool(name)\n",
    "print(name)\n",
    "\n",
    "empty_str = \"\"\n",
    "\n",
    "print(bool(empty_str))"
   ]
  },
  {
   "cell_type": "markdown",
   "id": "224d09e8",
   "metadata": {},
   "source": [
    "## input()\n",
    "\n",
    "A function that prompts the user to enter data \n",
    "\n",
    "Returns the entered data as a string"
   ]
  },
  {
   "cell_type": "code",
   "execution_count": 29,
   "id": "042bf8af",
   "metadata": {},
   "outputs": [
    {
     "name": "stdout",
     "output_type": "stream",
     "text": [
      "Hello, hehe. You are 19 years old\n"
     ]
    }
   ],
   "source": [
    "name = input(\"What is your name?:\")\n",
    "# age = input(\"How old are you?: \") # it default returns string data entered\n",
    "\n",
    "age = int(input(\"How old are you?: \"))\n",
    "age+=1\n",
    "\n",
    "print(f\"Hello, {name}. You are {age} years old\")\n"
   ]
  },
  {
   "cell_type": "markdown",
   "id": "e2ede4df",
   "metadata": {},
   "source": [
    "## Area of Rectangle"
   ]
  },
  {
   "cell_type": "code",
   "execution_count": 2,
   "id": "6ae74828",
   "metadata": {},
   "outputs": [
    {
     "name": "stdout",
     "output_type": "stream",
     "text": [
      "100.0\n"
     ]
    }
   ],
   "source": [
    "length = float(input(\"Enter the length: \"))\n",
    "breadth = float(input(\"Enter the breadth: \"))\n",
    "\n",
    "area = length*breadth\n",
    "\n",
    "print(area)"
   ]
  },
  {
   "cell_type": "markdown",
   "id": "a9453308",
   "metadata": {},
   "source": [
    "## SHopping Cart Program"
   ]
  },
  {
   "cell_type": "code",
   "execution_count": 3,
   "id": "7825f29a",
   "metadata": {},
   "outputs": [
    {
     "name": "stdout",
     "output_type": "stream",
     "text": [
      "The total for 5 no. of pizzas for unit price 10.0 is 50.0\n"
     ]
    }
   ],
   "source": [
    "item = input(\"What item would you like to buy?: \")\n",
    "price = float(input(\"What is the price?: \"))\n",
    "quantity = int(input(\"How many would you like?: \"))\n",
    "\n",
    "total = price*quantity\n",
    "\n",
    "print(f\"The total for {quantity} no. of {item}s for unit price {price} is {total}\")"
   ]
  },
  {
   "cell_type": "markdown",
   "id": "2c58ab32",
   "metadata": {},
   "source": [
    "## Arithmetic"
   ]
  },
  {
   "cell_type": "code",
   "execution_count": 5,
   "id": "27deedd9",
   "metadata": {},
   "outputs": [
    {
     "name": "stdout",
     "output_type": "stream",
     "text": [
      "1\n"
     ]
    }
   ],
   "source": [
    "friends = 0\n",
    "\n",
    "# friends = friends + 1 # addition operator\n",
    "\n",
    "friends+=1 # Augmented assignment operator\n",
    "\n",
    "print(friends)"
   ]
  },
  {
   "cell_type": "code",
   "execution_count": 7,
   "id": "996eb0fe",
   "metadata": {},
   "outputs": [
    {
     "name": "stdout",
     "output_type": "stream",
     "text": [
      "-2\n"
     ]
    }
   ],
   "source": [
    "# friends = friends - 2\n",
    "friends = 0\n",
    "friends-=2\n",
    "\n",
    "print(friends)"
   ]
  },
  {
   "cell_type": "code",
   "execution_count": null,
   "id": "62639106",
   "metadata": {},
   "outputs": [
    {
     "name": "stdout",
     "output_type": "stream",
     "text": [
      "15\n",
      "5.0\n",
      "25.0\n",
      "0.0\n"
     ]
    }
   ],
   "source": [
    "friends = 5\n",
    "\n",
    "friends *= 3\n",
    "print(friends)\n",
    "\n",
    "friends /= 3\n",
    "print(friends)\n",
    "\n",
    "friends **= 2 ## friends = friends ** 2 (** is exponent)\n",
    "print(friends)\n",
    "\n",
    "friends %= 5 # Remainder\n",
    "print(friends)"
   ]
  },
  {
   "cell_type": "markdown",
   "id": "10a4d81e",
   "metadata": {},
   "source": [
    "## Built-in math functions"
   ]
  },
  {
   "cell_type": "code",
   "execution_count": 17,
   "id": "4bace67c",
   "metadata": {},
   "outputs": [
    {
     "name": "stdout",
     "output_type": "stream",
     "text": [
      "3\n",
      "3\n",
      "9\n",
      "5\n",
      "-4\n"
     ]
    }
   ],
   "source": [
    "x = 3.14\n",
    "y = -4\n",
    "z = 5\n",
    "\n",
    "print(round(result))\n",
    "print(abs(result)) \n",
    "print(pow(3, 2))\n",
    "print(max(x, y, z))\n",
    "print(min(x, y, z))"
   ]
  },
  {
   "cell_type": "markdown",
   "id": "808f91a2",
   "metadata": {},
   "source": [
    "## Important constants and funcs"
   ]
  },
  {
   "cell_type": "code",
   "execution_count": 23,
   "id": "83c00d71",
   "metadata": {},
   "outputs": [
    {
     "name": "stdout",
     "output_type": "stream",
     "text": [
      "3.141592653589793\n",
      "2.718281828459045\n",
      "8.0\n",
      "4\n",
      "3\n"
     ]
    }
   ],
   "source": [
    "import math\n",
    "\n",
    "print(math.pi)\n",
    "print(math.e)\n",
    "print(math.sqrt(64))\n",
    "print(math.ceil(3.1))\n",
    "print(math.floor(3.9))"
   ]
  },
  {
   "cell_type": "markdown",
   "id": "7ce4a623",
   "metadata": {},
   "source": [
    "## Circumference of circle"
   ]
  },
  {
   "cell_type": "code",
   "execution_count": 26,
   "id": "04161f8b",
   "metadata": {},
   "outputs": [
    {
     "name": "stdout",
     "output_type": "stream",
     "text": [
      "Cicumference of circle with radius 5.0 is 31.42\n"
     ]
    }
   ],
   "source": [
    "import math\n",
    "\n",
    "r = float(input(\"Enter the radius of a circle\"))\n",
    "\n",
    "circumference = 2 * math.pi * r\n",
    "\n",
    "print(f\"Cicumference of circle with radius {r} is {round(circumference, 2)}\") ## rounding to 2 decimal places"
   ]
  },
  {
   "cell_type": "markdown",
   "id": "160faca3",
   "metadata": {},
   "source": [
    "## Area of circle"
   ]
  },
  {
   "cell_type": "code",
   "execution_count": 27,
   "id": "618c32ef",
   "metadata": {},
   "outputs": [
    {
     "name": "stdout",
     "output_type": "stream",
     "text": [
      "Area is 50.27\n"
     ]
    }
   ],
   "source": [
    "import math\n",
    "\n",
    "r = float(input(\"Enter the radius of a circle\"))\n",
    "\n",
    "area = math.pi * pow(r, 2)\n",
    "\n",
    "print(f\"Area is {round(area, 2)}\")"
   ]
  },
  {
   "cell_type": "markdown",
   "id": "994b6f2c",
   "metadata": {},
   "source": [
    "## Pythagoreous Theorem\n",
    "\n",
    "c = sqrt(a^2 + b^2)"
   ]
  },
  {
   "cell_type": "code",
   "execution_count": 30,
   "id": "e34c33de",
   "metadata": {},
   "outputs": [
    {
     "name": "stdout",
     "output_type": "stream",
     "text": [
      "side c: 5.830951894845301\n"
     ]
    }
   ],
   "source": [
    "import math\n",
    "\n",
    "a = float(input(\"Enter side a: \"))\n",
    "b = float(input(\"Enter side b: \"))\n",
    "\n",
    "c = math.sqrt(pow(a, 2)+pow(b, 2))\n",
    "\n",
    "print(f\"side c: {c}\")"
   ]
  }
 ],
 "metadata": {
  "kernelspec": {
   "display_name": "Python 3",
   "language": "python",
   "name": "python3"
  },
  "language_info": {
   "codemirror_mode": {
    "name": "ipython",
    "version": 3
   },
   "file_extension": ".py",
   "mimetype": "text/x-python",
   "name": "python",
   "nbconvert_exporter": "python",
   "pygments_lexer": "ipython3",
   "version": "3.11.4"
  }
 },
 "nbformat": 4,
 "nbformat_minor": 5
}
