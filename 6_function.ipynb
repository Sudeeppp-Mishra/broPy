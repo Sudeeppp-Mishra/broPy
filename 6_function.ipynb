{
 "cells": [
  {
   "cell_type": "markdown",
   "id": "5d8dd659",
   "metadata": {},
   "source": [
    "# Function\n",
    "\n",
    "A block of reusable code\n",
    "\n",
    "place () after the function name to invoke it"
   ]
  },
  {
   "cell_type": "code",
   "execution_count": 4,
   "id": "2749bb7a",
   "metadata": {},
   "outputs": [
    {
     "name": "stdout",
     "output_type": "stream",
     "text": [
      "Happy Birthday to Bruh!\n",
      "You are 18 years old!\n",
      "Happy Birthday to you!\n",
      "Happy Birthday to Joe!\n",
      "You are 19 years old!\n",
      "Happy Birthday to you!\n",
      "Happy Birthday to Jack!\n",
      "You are 20 years old!\n",
      "Happy Birthday to you!\n"
     ]
    }
   ],
   "source": [
    "def singHappyBirthday(name, age):\n",
    "    print(f\"Happy Birthday to {name}!\")\n",
    "    print(f\"You are {age} years old!\")\n",
    "    print(f\"Happy Birthday to you!\")\n",
    "    \n",
    "singHappyBirthday(\"Bruh\", 18)\n",
    "singHappyBirthday(\"Joe\", 19)\n",
    "singHappyBirthday(\"Jack\", 20)"
   ]
  },
  {
   "cell_type": "code",
   "execution_count": 5,
   "id": "efe58ccd",
   "metadata": {},
   "outputs": [
    {
     "name": "stdout",
     "output_type": "stream",
     "text": [
      "Hello Steve\n",
      "Your bill of $32.60 is due: 02/13\n"
     ]
    }
   ],
   "source": [
    "def display_invoice(username, amount, due_date):\n",
    "    print(f\"Hello {username}\")\n",
    "    print(f\"Your bill of ${amount:.2f} is due: {due_date}\")\n",
    "    \n",
    "display_invoice(\"Steve\", 32.60, \"02/13\")"
   ]
  },
  {
   "cell_type": "markdown",
   "id": "5de40251",
   "metadata": {},
   "source": [
    "# Return \n",
    "\n",
    "statment used to end a function and send a result back to the caller"
   ]
  },
  {
   "cell_type": "code",
   "execution_count": 6,
   "id": "1f13a147",
   "metadata": {},
   "outputs": [
    {
     "name": "stdout",
     "output_type": "stream",
     "text": [
      "7\n"
     ]
    }
   ],
   "source": [
    "def add(a, b):\n",
    "    return a+b\n",
    "\n",
    "sum = add(3, 4)\n",
    "print(sum)"
   ]
  },
  {
   "cell_type": "code",
   "execution_count": 9,
   "id": "3dc9051a",
   "metadata": {},
   "outputs": [
    {
     "name": "stdout",
     "output_type": "stream",
     "text": [
      "Ram Sha\n"
     ]
    }
   ],
   "source": [
    "def create_name(first, last):\n",
    "    first = first.capitalize()\n",
    "    last = last.capitalize()\n",
    "    return first + \" \" + last\n",
    "\n",
    "print(create_name(\"ram\", \"sha\"))\n",
    "\n"
   ]
  },
  {
   "cell_type": "markdown",
   "id": "c0f473a6",
   "metadata": {},
   "source": [
    "# Default arguments\n",
    "\n",
    "A default value for certain parameters\n",
    "\n",
    "default is used when that argument is omitted\n",
    "\n",
    "make your function more flexible, reduces #(i.e, no. of arguments) of argumens\n",
    "\n",
    "arguments types: \n",
    "1. positional (the above ones are positional arguments)\n",
    "2. DEFAULT\n",
    "3. keyword\n",
    "4. arbitrary"
   ]
  },
  {
   "cell_type": "code",
   "execution_count": 13,
   "id": "7472020a",
   "metadata": {},
   "outputs": [
    {
     "name": "stdout",
     "output_type": "stream",
     "text": [
      "525.0\n",
      "472.5\n",
      "450.0\n"
     ]
    }
   ],
   "source": [
    "def net_price(list_price, discount=0, tax=0.05):\n",
    "    return list_price*(1-discount)*(1+tax)\n",
    "\n",
    "print(net_price(500))\n",
    "\n",
    "print(net_price(500, 0.1))\n",
    "\n",
    "print(net_price(500, 0.1, 0))"
   ]
  },
  {
   "cell_type": "code",
   "execution_count": 18,
   "id": "095d3f39",
   "metadata": {},
   "outputs": [
    {
     "name": "stdout",
     "output_type": "stream",
     "text": [
      "0\n",
      "1\n",
      "2\n",
      "3\n",
      "4\n",
      "5\n",
      "6\n",
      "7\n",
      "8\n",
      "9\n",
      "10\n",
      "DONE!\n"
     ]
    }
   ],
   "source": [
    "import time\n",
    "\n",
    "def count(end, start=0): # non-default argument must follwo default argument\n",
    "    for x in range(start, end+1):\n",
    "        print(x)\n",
    "        time.sleep(1)\n",
    "    print(\"DONE!\")\n",
    "        \n",
    "count(10)"
   ]
  },
  {
   "cell_type": "code",
   "execution_count": 19,
   "id": "696174b6",
   "metadata": {},
   "outputs": [
    {
     "name": "stdout",
     "output_type": "stream",
     "text": [
      "20\n",
      "21\n",
      "22\n",
      "23\n",
      "24\n",
      "25\n",
      "26\n",
      "27\n",
      "28\n",
      "29\n",
      "30\n",
      "DONE!\n"
     ]
    }
   ],
   "source": [
    "count(30, 20)"
   ]
  },
  {
   "cell_type": "markdown",
   "id": "6c10be19",
   "metadata": {},
   "source": [
    "# KEYWORD ARGUMENT\n",
    "\n",
    "an argument preceded by an identifier\n",
    "\n",
    "helps with readability\n",
    "\n",
    "order of arguments doesn't matter\n"
   ]
  },
  {
   "cell_type": "code",
   "execution_count": null,
   "id": "fb7b7b24",
   "metadata": {},
   "outputs": [
    {
     "name": "stdout",
     "output_type": "stream",
     "text": [
      "Hi Mr. Spongebob Squarepants\n"
     ]
    }
   ],
   "source": [
    "def hello(greet, title, first, last):\n",
    "    print(f\"{greet} {title} {first} {last}\")\n",
    "    \n",
    "hello(\"Hi\", first=\"Spongebob\", last=\"Squarepants\", title=\"Mr.\") # keyword arguments so here position doesn't matter\n",
    "# and make sure to remember positional argument follwos keyword argument"
   ]
  },
  {
   "cell_type": "code",
   "execution_count": 24,
   "id": "0f59114e",
   "metadata": {},
   "outputs": [
    {
     "name": "stdout",
     "output_type": "stream",
     "text": [
      "1 2 3 4 5 6 7 8 9 10 "
     ]
    }
   ],
   "source": [
    "for x in range(1, 11):\n",
    "    print(x, end=\" \") # end is a keyword argument"
   ]
  },
  {
   "cell_type": "code",
   "execution_count": 25,
   "id": "91a502e8",
   "metadata": {},
   "outputs": [
    {
     "name": "stdout",
     "output_type": "stream",
     "text": [
      "1-2-3-4-5\n"
     ]
    }
   ],
   "source": [
    "print(\"1\", \"2\", \"3\", \"4\", \"5\", sep=\"-\")"
   ]
  },
  {
   "cell_type": "code",
   "execution_count": 28,
   "id": "83481cea",
   "metadata": {},
   "outputs": [
    {
     "name": "stdout",
     "output_type": "stream",
     "text": [
      "1-123-456-7890\n"
     ]
    }
   ],
   "source": [
    "def get_phone(country_code, area_code, first_digits, last_digits):\n",
    "    return f\"{country_code}-{area_code}-{first_digits}-{last_digits}\"\n",
    "\n",
    "phone_num = get_phone(country_code=1, area_code=123, first_digits=456, last_digits=7890)\n",
    "\n",
    "print(phone_num)"
   ]
  },
  {
   "cell_type": "markdown",
   "id": "4e46f8fe",
   "metadata": {},
   "source": [
    "# ARBITARY ARGUMENTS\n",
    "\n",
    "*args = allows you to pass multiple non-key arguments -> packs into tuple\n",
    "\n",
    "**kwargs = allows you to pass multiple keyword-arguments -> packs into dict\n",
    "\n",
    "\\* unpacking operator"
   ]
  },
  {
   "cell_type": "code",
   "execution_count": 29,
   "id": "67ebb8ea",
   "metadata": {},
   "outputs": [
    {
     "name": "stdout",
     "output_type": "stream",
     "text": [
      "3\n"
     ]
    }
   ],
   "source": [
    "def add(a, b):\n",
    "    return a+b\n",
    "\n",
    "print(add(1, 2))"
   ]
  },
  {
   "cell_type": "code",
   "execution_count": null,
   "id": "5bbcf05e",
   "metadata": {},
   "outputs": [
    {
     "name": "stdout",
     "output_type": "stream",
     "text": [
      "(1, 2, 3)\n",
      "<class 'tuple'>\n",
      "\n",
      "6\n"
     ]
    }
   ],
   "source": [
    "def add(*args): # we can name *nums or anything else\n",
    "    print(args)\n",
    "    print(type(args))\n",
    "    \n",
    "    total = 0\n",
    "    for arg in args:\n",
    "        total+=arg\n",
    "    return total\n",
    "    \n",
    "print(f\"\\n{add(1,2,3)}\")"
   ]
  },
  {
   "cell_type": "code",
   "execution_count": 35,
   "id": "81ff3f51",
   "metadata": {},
   "outputs": [
    {
     "name": "stdout",
     "output_type": "stream",
     "text": [
      "Dr. Spongebob Harold Squarepants III "
     ]
    }
   ],
   "source": [
    "def display_name(*args):\n",
    "    for arg in args:\n",
    "        print(arg, end=\" \")\n",
    "        \n",
    "display_name(\"Dr.\", \"Spongebob\", \"Harold\", \"Squarepants\", \"III\")"
   ]
  },
  {
   "cell_type": "code",
   "execution_count": 44,
   "id": "ed7675b8",
   "metadata": {},
   "outputs": [
    {
     "name": "stdout",
     "output_type": "stream",
     "text": [
      "<class 'dict'>\n",
      "street    : 123 Fake St.\n",
      "city      : Detroit\n",
      "state     : MI\n",
      "zip       : 54321\n"
     ]
    }
   ],
   "source": [
    "def print_address(**kwargs):\n",
    "    print(type(kwargs))\n",
    "    for key, value in kwargs.items():\n",
    "        print(f\"{key:10}: {value}\")\n",
    "\n",
    "print_address(street=\"123 Fake St.\", city=\"Detroit\", state=\"MI\", zip=\"54321\")"
   ]
  },
  {
   "cell_type": "code",
   "execution_count": 51,
   "id": "98c4fae7",
   "metadata": {},
   "outputs": [
    {
     "name": "stdout",
     "output_type": "stream",
     "text": [
      "Dr.  Spongebob Squarepants III \n",
      "123 Fake St. #100\n",
      "Hehe MI 54321 \n"
     ]
    }
   ],
   "source": [
    "def shipping_label(*args, **kwargs): # args must be followed by kwargs else we will have syntaxerror\n",
    "    for arg in args:\n",
    "        print(arg, end=\" \")\n",
    "        \n",
    "    print()\n",
    "    \n",
    "    if 'apartment' in kwargs:\n",
    "        print(f\"{kwargs.get('street')} {kwargs.get('apartment')}\")\n",
    "    \n",
    "    else:\n",
    "        print(f\"{kwargs.get('street')}\")\n",
    "        \n",
    "    print(f\"{kwargs.get('city')} {kwargs.get('state')} {kwargs.get('zip')} \")\n",
    "\n",
    "shipping_label(\"Dr. \", \"Spongebob\", \"Squarepants\", \"III\", \n",
    "               street=\"123 Fake St.\",city='Hehe', apartment=\"#100\", state=\"MI\", zip=\"54321\")"
   ]
  }
 ],
 "metadata": {
  "kernelspec": {
   "display_name": "Python 3",
   "language": "python",
   "name": "python3"
  },
  "language_info": {
   "codemirror_mode": {
    "name": "ipython",
    "version": 3
   },
   "file_extension": ".py",
   "mimetype": "text/x-python",
   "name": "python",
   "nbconvert_exporter": "python",
   "pygments_lexer": "ipython3",
   "version": "3.11.4"
  }
 },
 "nbformat": 4,
 "nbformat_minor": 5
}
