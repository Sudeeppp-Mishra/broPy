{
 "cells": [
  {
   "cell_type": "markdown",
   "id": "9430adac",
   "metadata": {},
   "source": [
    "## Format Specifiers\n",
    "\n",
    "format specifiers = {value:flags} format a value based on what flags are inserted\n",
    "\n",
    "- .(number)f = round to that many decimal places (fixed point)\n",
    "\n",
    "- :(number) = allocate that many spaces\n",
    "\n",
    "- :03 = allocate and zero pad that many spaces\n",
    "\n",
    "- :< = left justify\n",
    "\n",
    "- :> = right justify\n",
    "\n",
    "- :^ = center align\n",
    "\n",
    "- :+ = use a plus sign to indicate positive value\n",
    "\n",
    "- := = place sign to leftmost position\n",
    "\n",
    "- : = insert a space before positive numbers\n",
    "\n",
    "- :, = comma separator"
   ]
  },
  {
   "cell_type": "code",
   "execution_count": 26,
   "id": "b0556f1c",
   "metadata": {},
   "outputs": [
    {
     "name": "stdout",
     "output_type": "stream",
     "text": [
      " Price 1 is $3.1\n",
      " Price 2 is $-9870.6500\n",
      " Price 3 is $12.34\n",
      "\n",
      "\n",
      "\n",
      " Price 1 is $   3.14159\n",
      " Price 2 is $-009870.65\n",
      " Price 3 is $3.14159   \n",
      " Price 1 is $   3.14159\n",
      " Price 1 is $ 3.14159  \n",
      "\n",
      "\n",
      "\n",
      " Price 1 is $ 3.14159\n",
      " Price 2 is $-9870.65\n",
      " Price 3 is $ 12.34\n",
      "\n",
      "\n",
      "\n",
      " Price 1 is $+3.14\n",
      " Price 2 is $-9,870.65\n",
      " Price 3 is $+12.34\n"
     ]
    }
   ],
   "source": [
    "price1 = 3.14159 \n",
    "price2 = -9870.65\n",
    "price3 = 12.34\n",
    "\n",
    "print(f' Price 1 is ${price1:.1f}')\n",
    "print(f' Price 2 is ${price2:.4f}')\n",
    "print(f' Price 3 is ${price3:.2f}')\n",
    "print(\"\\n\\n\")\n",
    "print(f' Price 1 is ${price1:10}')\n",
    "print(f' Price 2 is ${price2:010}') # 0 padded\n",
    "print(f' Price 3 is ${price1:<10}') # left justified\n",
    "print(f' Price 1 is ${price1:>10}') # right padded\n",
    "print(f' Price 1 is ${price1:^10}') # center aligned\n",
    "print('\\n\\n')\n",
    "print(f' Price 1 is ${price1: }')\n",
    "print(f' Price 2 is ${price2: }')\n",
    "print(f' Price 3 is ${price3: }')\n",
    "print('\\n\\n')\n",
    "print(f' Price 1 is ${price1:+,.2f}')\n",
    "print(f' Price 2 is ${price2:+,.2f}')\n",
    "print(f' Price 3 is ${price3:+,.2f}')\n"
   ]
  }
 ],
 "metadata": {
  "kernelspec": {
   "display_name": "Python 3",
   "language": "python",
   "name": "python3"
  },
  "language_info": {
   "codemirror_mode": {
    "name": "ipython",
    "version": 3
   },
   "file_extension": ".py",
   "mimetype": "text/x-python",
   "name": "python",
   "nbconvert_exporter": "python",
   "pygments_lexer": "ipython3",
   "version": "3.11.4"
  }
 },
 "nbformat": 4,
 "nbformat_minor": 5
}
