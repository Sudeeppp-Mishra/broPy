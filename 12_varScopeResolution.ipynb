{
 "cells": [
  {
   "cell_type": "markdown",
   "id": "5cd5d3eb",
   "metadata": {},
   "source": [
    "# Variable Scope\n",
    "\n",
    "where a variable is visible and accessible\n",
    "\n",
    "# Scope Resolution\n",
    "\n",
    "(LEGB) Local -> Enclosed -> Global -> Built-in"
   ]
  },
  {
   "cell_type": "code",
   "execution_count": 3,
   "id": "ffbd2584",
   "metadata": {},
   "outputs": [
    {
     "name": "stdout",
     "output_type": "stream",
     "text": [
      "1\n",
      "2\n"
     ]
    }
   ],
   "source": [
    "def func1():\n",
    "    a = 1 # local to func1()\n",
    "    print(a)\n",
    "    \n",
    "def func2():\n",
    "    a = 2 # local to func2()\n",
    "    print(a)\n",
    "    \n",
    "func1()\n",
    "func2()"
   ]
  },
  {
   "cell_type": "code",
   "execution_count": 5,
   "id": "27b6e2ca",
   "metadata": {},
   "outputs": [
    {
     "name": "stdout",
     "output_type": "stream",
     "text": [
      "2\n"
     ]
    }
   ],
   "source": [
    "def func1():\n",
    "    a = 1 # local to func1()\n",
    "    \n",
    "    def func2():\n",
    "        a = 2 # local to func2()\n",
    "        print(a)\n",
    "    func2()\n",
    "    \n",
    "func1()"
   ]
  },
  {
   "cell_type": "markdown",
   "id": "874d3130",
   "metadata": {},
   "source": [
    "here func2() first check's for if a is in local scope if there is it uses that else it goes to enclosed else goes to global else built-in"
   ]
  },
  {
   "cell_type": "code",
   "execution_count": null,
   "id": "352a72da",
   "metadata": {},
   "outputs": [
    {
     "name": "stdout",
     "output_type": "stream",
     "text": [
      "1\n"
     ]
    }
   ],
   "source": [
    "def func1():\n",
    "    a = 1 # local to func1() but enclosed for func2()\n",
    "    \n",
    "    def func2():\n",
    "        print(a)\n",
    "    func2()\n",
    "    \n",
    "func1()"
   ]
  },
  {
   "cell_type": "code",
   "execution_count": 7,
   "id": "abda39b4",
   "metadata": {},
   "outputs": [
    {
     "name": "stdout",
     "output_type": "stream",
     "text": [
      "5\n",
      "5\n"
     ]
    }
   ],
   "source": [
    "def func1():\n",
    "    print(a)\n",
    "    \n",
    "def func2():\n",
    "    print(a)\n",
    "    \n",
    "a = 5\n",
    "\n",
    "func1()\n",
    "func2()"
   ]
  },
  {
   "cell_type": "code",
   "execution_count": 9,
   "id": "e1bd013b",
   "metadata": {},
   "outputs": [
    {
     "name": "stdout",
     "output_type": "stream",
     "text": [
      "3\n"
     ]
    }
   ],
   "source": [
    "from math import e # built-in version of e\n",
    "\n",
    "def func1():\n",
    "    print(e)\n",
    "    \n",
    "e = 3\n",
    "func1()"
   ]
  },
  {
   "cell_type": "code",
   "execution_count": 10,
   "id": "35524eb5",
   "metadata": {},
   "outputs": [
    {
     "name": "stdout",
     "output_type": "stream",
     "text": [
      "2.718281828459045\n"
     ]
    }
   ],
   "source": [
    "from math import e # built-in version of e\n",
    "\n",
    "def func1():\n",
    "    print(e) # there is no global ones or enclosed or local so it will use built-in\n",
    "    \n",
    "func1()"
   ]
  }
 ],
 "metadata": {
  "kernelspec": {
   "display_name": "Python 3",
   "language": "python",
   "name": "python3"
  },
  "language_info": {
   "codemirror_mode": {
    "name": "ipython",
    "version": 3
   },
   "file_extension": ".py",
   "mimetype": "text/x-python",
   "name": "python",
   "nbconvert_exporter": "python",
   "pygments_lexer": "ipython3",
   "version": "3.11.4"
  }
 },
 "nbformat": 4,
 "nbformat_minor": 5
}
