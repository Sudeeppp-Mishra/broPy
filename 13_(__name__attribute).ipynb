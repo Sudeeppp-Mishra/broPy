{
 "cells": [
  {
   "cell_type": "markdown",
   "id": "c77e79b7",
   "metadata": {},
   "source": [
    "if \\_\\_name__ == '_\\_main__' : (this script can be imported OR run standalone)\n",
    "\n",
    "Functions and classes in this module can be reused without the main block of code executing\n",
    "\n",
    "Note: double underscore is called \"dunder\" in slang..."
   ]
  },
  {
   "cell_type": "code",
   "execution_count": 2,
   "id": "a6b0eb85",
   "metadata": {},
   "outputs": [],
   "source": [
    "def main():\n",
    "    # Our program\n",
    "    pass\n",
    "    \n",
    "if __name__ == '__main__':\n",
    "    main()"
   ]
  },
  {
   "cell_type": "markdown",
   "id": "b6becc85",
   "metadata": {},
   "source": [
    "This is useful when we want to run other codes without main() running:\n",
    "\n",
    "eg. library = Import library for functionality\n",
    "When running library directly, display a help page (we don't wanna display help() funciton right instead we just want to run library)"
   ]
  },
  {
   "cell_type": "code",
   "execution_count": 4,
   "id": "44211c0b",
   "metadata": {},
   "outputs": [
    {
     "name": "stdout",
     "output_type": "stream",
     "text": [
      "['In', 'Out', '_', '__', '___', '__builtin__', '__builtins__', '__doc__', '__loader__', '__name__', '__package__', '__spec__', '__vsc_ipynb_file__', '_dh', '_i', '_i1', '_i2', '_i3', '_i4', '_ih', '_ii', '_iii', '_oh', 'exit', 'get_ipython', 'main', 'open', 'quit']\n"
     ]
    }
   ],
   "source": [
    "print(dir())"
   ]
  },
  {
   "cell_type": "code",
   "execution_count": 5,
   "id": "c1041e3e",
   "metadata": {},
   "outputs": [
    {
     "name": "stdout",
     "output_type": "stream",
     "text": [
      "__main__\n"
     ]
    }
   ],
   "source": [
    "print(__name__)"
   ]
  },
  {
   "cell_type": "markdown",
   "id": "a41f2919",
   "metadata": {},
   "source": [
    "# Good Practice\n",
    "\n",
    "- code is modular\n",
    "- helps readability\n",
    "- leaves no global variables\n",
    "- avoid unintended execution"
   ]
  }
 ],
 "metadata": {
  "kernelspec": {
   "display_name": "Python 3",
   "language": "python",
   "name": "python3"
  },
  "language_info": {
   "codemirror_mode": {
    "name": "ipython",
    "version": 3
   },
   "file_extension": ".py",
   "mimetype": "text/x-python",
   "name": "python",
   "nbconvert_exporter": "python",
   "pygments_lexer": "ipython3",
   "version": "3.11.4"
  }
 },
 "nbformat": 4,
 "nbformat_minor": 5
}
