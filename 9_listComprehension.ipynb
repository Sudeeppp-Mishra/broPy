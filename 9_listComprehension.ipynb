{
 "cells": [
  {
   "cell_type": "markdown",
   "id": "53071c04",
   "metadata": {},
   "source": [
    "# List Comprehension\n",
    "\n",
    "A concise way to create lists in Python\n",
    "\n",
    "Compact and easier to read than traditional loops\n",
    "\n",
    "[expression for value in iterable if condition]"
   ]
  },
  {
   "cell_type": "code",
   "execution_count": 10,
   "id": "d1ab39e6",
   "metadata": {},
   "outputs": [
    {
     "name": "stdout",
     "output_type": "stream",
     "text": [
      "[1, 3, 5, 8]\n"
     ]
    }
   ],
   "source": [
    "numbers = [1, -2, 3, -4, 5, -6, 8, -7]\n",
    "\n",
    "positive_nums = [num for num in numbers if num>=0]\n",
    "\n",
    "print(positive_nums)"
   ]
  },
  {
   "cell_type": "code",
   "execution_count": 11,
   "id": "f0a38436",
   "metadata": {},
   "outputs": [
    {
     "name": "stdout",
     "output_type": "stream",
     "text": [
      "[-2, -4, -6, -7]\n"
     ]
    }
   ],
   "source": [
    "negative_nums = [num for num in numbers if num<0]\n",
    "\n",
    "print(negative_nums)"
   ]
  },
  {
   "cell_type": "code",
   "execution_count": 12,
   "id": "d66ab21b",
   "metadata": {},
   "outputs": [
    {
     "name": "stdout",
     "output_type": "stream",
     "text": [
      "[-2, -4, -6, 8]\n"
     ]
    }
   ],
   "source": [
    "even_nums = [num for num in numbers if num%2==0]\n",
    "\n",
    "print(even_nums)"
   ]
  },
  {
   "cell_type": "code",
   "execution_count": 14,
   "id": "15d09976",
   "metadata": {},
   "outputs": [
    {
     "name": "stdout",
     "output_type": "stream",
     "text": [
      "[1, 3, 5, -7]\n"
     ]
    }
   ],
   "source": [
    "odd_nums = [num for num in numbers if num%2 == 1]\n",
    "\n",
    "print(odd_nums)"
   ]
  },
  {
   "cell_type": "code",
   "execution_count": 16,
   "id": "82f923bf",
   "metadata": {},
   "outputs": [
    {
     "name": "stdout",
     "output_type": "stream",
     "text": [
      "[85, 79, 90, 61]\n"
     ]
    }
   ],
   "source": [
    "grades = [85, 42, 79, 90, 56, 61, 30]\n",
    "\n",
    "passing_grades = [grade for grade in grades if grade>=60]\n",
    "\n",
    "print(passing_grades)"
   ]
  }
 ],
 "metadata": {
  "kernelspec": {
   "display_name": "Python 3",
   "language": "python",
   "name": "python3"
  },
  "language_info": {
   "codemirror_mode": {
    "name": "ipython",
    "version": 3
   },
   "file_extension": ".py",
   "mimetype": "text/x-python",
   "name": "python",
   "nbconvert_exporter": "python",
   "pygments_lexer": "ipython3",
   "version": "3.11.4"
  }
 },
 "nbformat": 4,
 "nbformat_minor": 5
}
