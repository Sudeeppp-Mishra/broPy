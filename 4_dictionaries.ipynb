{
 "cells": [
  {
   "cell_type": "markdown",
   "id": "ffae9fb5",
   "metadata": {},
   "source": [
    "# Dictionary\n",
    "\n",
    " a collection of {key:value} pairs\n",
    "\n",
    " ordered and changeable. No duplicates"
   ]
  },
  {
   "cell_type": "code",
   "execution_count": null,
   "id": "64cfa4f0",
   "metadata": {},
   "outputs": [
    {
     "name": "stdout",
     "output_type": "stream",
     "text": [
      "Washington DC\n",
      "None\n",
      "\n",
      "{'USA': 'Washington DC', 'Nepal': 'Kathmandu', 'India': 'New Delhi', 'Russia': 'Moscow', 'Germany': 'Berlin'}\n",
      "\n",
      "{'USA': 'Detroit', 'Nepal': 'Kathmandu', 'India': 'New Delhi', 'Russia': 'Moscow', 'Germany': 'Berlin'}\n",
      "\n",
      "{'USA': 'Detroit', 'Nepal': 'Kathmandu', 'Russia': 'Moscow', 'Germany': 'Berlin'}\n",
      "{'USA': 'Detroit', 'Nepal': 'Kathmandu', 'Russia': 'Moscow'}\n"
     ]
    }
   ],
   "source": [
    "capitals = {\"USA\": \"Washington DC\", \n",
    "            \"Nepal\": \"Kathmandu\",\n",
    "            \"India\": \"New Delhi\",\n",
    "            \"Russia\": \"Moscow\"}\n",
    "\n",
    "print(capitals.get(\"USA\"))\n",
    "\n",
    "print(capitals.get(\"Japan\")) # returns None is there is no value for the key\n",
    "\n",
    "print()\n",
    "\n",
    "capitals.update({\"Germany\": \"Berlin\"})\n",
    "\n",
    "print(capitals)\n",
    "\n",
    "print()\n",
    "\n",
    "capitals.update({\"USA\": \"Detroit\"})\n",
    "print(capitals)\n",
    "\n",
    "print()\n",
    "\n",
    "capitals.pop(\"India\")\n",
    "print(capitals)\n",
    "\n",
    "capitals.popitem() # pop's the latest key value item that was inserted\n",
    "print(capitals)"
   ]
  },
  {
   "cell_type": "code",
   "execution_count": null,
   "id": "24d06434",
   "metadata": {},
   "outputs": [
    {
     "name": "stdout",
     "output_type": "stream",
     "text": [
      "['__class__', '__class_getitem__', '__contains__', '__delattr__', '__delitem__', '__dir__', '__doc__', '__eq__', '__format__', '__ge__', '__getattribute__', '__getitem__', '__getstate__', '__gt__', '__hash__', '__init__', '__init_subclass__', '__ior__', '__iter__', '__le__', '__len__', '__lt__', '__ne__', '__new__', '__or__', '__reduce__', '__reduce_ex__', '__repr__', '__reversed__', '__ror__', '__setattr__', '__setitem__', '__sizeof__', '__str__', '__subclasshook__', 'clear', 'copy', 'fromkeys', 'get', 'items', 'keys', 'pop', 'popitem', 'setdefault', 'update', 'values']\n",
      "Help on dict object:\n",
      "\n",
      "class dict(object)\n",
      " |  dict() -> new empty dictionary\n",
      " |  dict(mapping) -> new dictionary initialized from a mapping object's\n",
      " |      (key, value) pairs\n",
      " |  dict(iterable) -> new dictionary initialized as if via:\n",
      " |      d = {}\n",
      " |      for k, v in iterable:\n",
      " |          d[k] = v\n",
      " |  dict(**kwargs) -> new dictionary initialized with the name=value pairs\n",
      " |      in the keyword argument list.  For example:  dict(one=1, two=2)\n",
      " |  \n",
      " |  Built-in subclasses:\n",
      " |      StgDict\n",
      " |  \n",
      " |  Methods defined here:\n",
      " |  \n",
      " |  __contains__(self, key, /)\n",
      " |      True if the dictionary has the specified key, else False.\n",
      " |  \n",
      " |  __delitem__(self, key, /)\n",
      " |      Delete self[key].\n",
      " |  \n",
      " |  __eq__(self, value, /)\n",
      " |      Return self==value.\n",
      " |  \n",
      " |  __ge__(self, value, /)\n",
      " |      Return self>=value.\n",
      " |  \n",
      " |  __getattribute__(self, name, /)\n",
      " |      Return getattr(self, name).\n",
      " |  \n",
      " |  __getitem__(...)\n",
      " |      x.__getitem__(y) <==> x[y]\n",
      " |  \n",
      " |  __gt__(self, value, /)\n",
      " |      Return self>value.\n",
      " |  \n",
      " |  __init__(self, /, *args, **kwargs)\n",
      " |      Initialize self.  See help(type(self)) for accurate signature.\n",
      " |  \n",
      " |  __ior__(self, value, /)\n",
      " |      Return self|=value.\n",
      " |  \n",
      " |  __iter__(self, /)\n",
      " |      Implement iter(self).\n",
      " |  \n",
      " |  __le__(self, value, /)\n",
      " |      Return self<=value.\n",
      " |  \n",
      " |  __len__(self, /)\n",
      " |      Return len(self).\n",
      " |  \n",
      " |  __lt__(self, value, /)\n",
      " |      Return self<value.\n",
      " |  \n",
      " |  __ne__(self, value, /)\n",
      " |      Return self!=value.\n",
      " |  \n",
      " |  __or__(self, value, /)\n",
      " |      Return self|value.\n",
      " |  \n",
      " |  __repr__(self, /)\n",
      " |      Return repr(self).\n",
      " |  \n",
      " |  __reversed__(self, /)\n",
      " |      Return a reverse iterator over the dict keys.\n",
      " |  \n",
      " |  __ror__(self, value, /)\n",
      " |      Return value|self.\n",
      " |  \n",
      " |  __setitem__(self, key, value, /)\n",
      " |      Set self[key] to value.\n",
      " |  \n",
      " |  __sizeof__(...)\n",
      " |      D.__sizeof__() -> size of D in memory, in bytes\n",
      " |  \n",
      " |  clear(...)\n",
      " |      D.clear() -> None.  Remove all items from D.\n",
      " |  \n",
      " |  copy(...)\n",
      " |      D.copy() -> a shallow copy of D\n",
      " |  \n",
      " |  get(self, key, default=None, /)\n",
      " |      Return the value for key if key is in the dictionary, else default.\n",
      " |  \n",
      " |  items(...)\n",
      " |      D.items() -> a set-like object providing a view on D's items\n",
      " |  \n",
      " |  keys(...)\n",
      " |      D.keys() -> a set-like object providing a view on D's keys\n",
      " |  \n",
      " |  pop(...)\n",
      " |      D.pop(k[,d]) -> v, remove specified key and return the corresponding value.\n",
      " |      \n",
      " |      If the key is not found, return the default if given; otherwise,\n",
      " |      raise a KeyError.\n",
      " |  \n",
      " |  popitem(self, /)\n",
      " |      Remove and return a (key, value) pair as a 2-tuple.\n",
      " |      \n",
      " |      Pairs are returned in LIFO (last-in, first-out) order.\n",
      " |      Raises KeyError if the dict is empty.\n",
      " |  \n",
      " |  setdefault(self, key, default=None, /)\n",
      " |      Insert key with a value of default if key is not in the dictionary.\n",
      " |      \n",
      " |      Return the value for key if key is in the dictionary, else default.\n",
      " |  \n",
      " |  update(...)\n",
      " |      D.update([E, ]**F) -> None.  Update D from dict/iterable E and F.\n",
      " |      If E is present and has a .keys() method, then does:  for k in E: D[k] = E[k]\n",
      " |      If E is present and lacks a .keys() method, then does:  for k, v in E: D[k] = v\n",
      " |      In either case, this is followed by: for k in F:  D[k] = F[k]\n",
      " |  \n",
      " |  values(...)\n",
      " |      D.values() -> an object providing a view on D's values\n",
      " |  \n",
      " |  ----------------------------------------------------------------------\n",
      " |  Class methods defined here:\n",
      " |  \n",
      " |  __class_getitem__(...) from builtins.type\n",
      " |      See PEP 585\n",
      " |  \n",
      " |  fromkeys(iterable, value=None, /) from builtins.type\n",
      " |      Create a new dictionary with keys from iterable and values set to value.\n",
      " |  \n",
      " |  ----------------------------------------------------------------------\n",
      " |  Static methods defined here:\n",
      " |  \n",
      " |  __new__(*args, **kwargs) from builtins.type\n",
      " |      Create and return a new object.  See help(type) for accurate signature.\n",
      " |  \n",
      " |  ----------------------------------------------------------------------\n",
      " |  Data and other attributes defined here:\n",
      " |  \n",
      " |  __hash__ = None\n",
      "\n",
      "None\n"
     ]
    }
   ],
   "source": [
    "print(dir(capitals)) # methods and attributes we can use with dictionaries\n",
    "\n",
    "print(help(capitals)) # description of methods and attributes"
   ]
  },
  {
   "cell_type": "code",
   "execution_count": 13,
   "id": "b1404cef",
   "metadata": {},
   "outputs": [
    {
     "name": "stdout",
     "output_type": "stream",
     "text": [
      "{}\n"
     ]
    }
   ],
   "source": [
    "capitals.clear()\n",
    "\n",
    "print(capitals)"
   ]
  },
  {
   "cell_type": "code",
   "execution_count": 16,
   "id": "4c04e3ee",
   "metadata": {},
   "outputs": [
    {
     "name": "stdout",
     "output_type": "stream",
     "text": [
      "dict_keys(['USA', 'Nepal', 'India', 'Russia'])\n",
      "USA\n",
      "Nepal\n",
      "India\n",
      "Russia\n"
     ]
    }
   ],
   "source": [
    "capitals = {\"USA\": \"Washington DC\", \n",
    "            \"Nepal\": \"Kathmandu\",\n",
    "            \"India\": \"New Delhi\",\n",
    "            \"Russia\": \"Moscow\"}\n",
    "\n",
    "keys = capitals.keys()\n",
    "print(keys)\n",
    "\n",
    "for key in capitals.keys(): # keys is iterable object\n",
    "    print(key)"
   ]
  },
  {
   "cell_type": "code",
   "execution_count": 18,
   "id": "c87b71a0",
   "metadata": {},
   "outputs": [
    {
     "name": "stdout",
     "output_type": "stream",
     "text": [
      "dict_values(['Washington DC', 'Kathmandu', 'New Delhi', 'Moscow'])\n",
      "Washington DC\n",
      "Kathmandu\n",
      "New Delhi\n",
      "Moscow\n"
     ]
    }
   ],
   "source": [
    "values = capitals.values()\n",
    "\n",
    "print(values)\n",
    "\n",
    "for value in values:\n",
    "    print(value)"
   ]
  },
  {
   "cell_type": "code",
   "execution_count": 21,
   "id": "c5fb737d",
   "metadata": {},
   "outputs": [
    {
     "name": "stdout",
     "output_type": "stream",
     "text": [
      "dict_items([('USA', 'Washington DC'), ('Nepal', 'Kathmandu'), ('India', 'New Delhi'), ('Russia', 'Moscow')])\n",
      "USA->Washington DC\n",
      "Nepal->Kathmandu\n",
      "India->New Delhi\n",
      "Russia->Moscow\n"
     ]
    }
   ],
   "source": [
    "items = capitals.items()\n",
    "\n",
    "print(items)\n",
    "\n",
    "for key, value in capitals.items():\n",
    "    print(f\"{key}->{value}\")"
   ]
  },
  {
   "cell_type": "markdown",
   "id": "12e788b7",
   "metadata": {},
   "source": [
    "## Concession stand program"
   ]
  },
  {
   "cell_type": "code",
   "execution_count": 29,
   "id": "a479ef82",
   "metadata": {},
   "outputs": [
    {
     "name": "stdout",
     "output_type": "stream",
     "text": [
      "----------MENU----------\n",
      "pizza     :$3.00\n",
      "popcorn   :$6.00\n",
      "soda      :$3.00\n",
      "fries     :$2.50\n",
      "lemonade  :$4.25\n",
      "------------------------\n",
      "---------YOUR ORDER---------\n",
      "pizza soda fries lemonade \n",
      "Total is: $12.75\n"
     ]
    }
   ],
   "source": [
    "menu = {\"pizza\": 3.00,\n",
    "        \"popcorn\": 6.00,\n",
    "        \"soda\": 3.00,\n",
    "        \"fries\": 2.50,\n",
    "        \"lemonade\": 4.25}\n",
    "\n",
    "cart = []\n",
    "total = 0\n",
    "\n",
    "print(f\"----------MENU----------\")\n",
    "for key, value in menu.items():\n",
    "    print(f\"{key:10}:${value:.2f}\")\n",
    "print(f\"------------------------\")\n",
    "\n",
    "while True:\n",
    "    food = input(\"Select an item (q to quit): \")\n",
    "    \n",
    "    if food.lower() == 'q':\n",
    "        break\n",
    "    \n",
    "    elif menu.get(food) is not None:\n",
    "        cart.append(food)\n",
    "\n",
    "print(\"---------YOUR ORDER---------\")\n",
    "for food in cart:\n",
    "    total += menu.get(food)\n",
    "    print(food, end = \" \")\n",
    "    \n",
    "print()\n",
    "print(f\"Total is: ${total:.2f}\")\n",
    "\n"
   ]
  }
 ],
 "metadata": {
  "kernelspec": {
   "display_name": "Python 3",
   "language": "python",
   "name": "python3"
  },
  "language_info": {
   "codemirror_mode": {
    "name": "ipython",
    "version": 3
   },
   "file_extension": ".py",
   "mimetype": "text/x-python",
   "name": "python",
   "nbconvert_exporter": "python",
   "pygments_lexer": "ipython3",
   "version": "3.11.4"
  }
 },
 "nbformat": 4,
 "nbformat_minor": 5
}
